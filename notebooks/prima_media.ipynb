{
 "cells": [
  {
   "cell_type": "code",
   "execution_count": 9,
   "id": "439388a3",
   "metadata": {
    "vscode": {
     "languageId": "r"
    }
   },
   "outputs": [],
   "source": [
    "source(\"../src/utils/tasa_reemplazo_prima_media.R\")"
   ]
  },
  {
   "cell_type": "code",
   "execution_count": 15,
   "id": "1b4530fa",
   "metadata": {
    "vscode": {
     "languageId": "r"
    }
   },
   "outputs": [
    {
     "data": {
      "text/html": [
       "0.65"
      ],
      "text/latex": [
       "0.65"
      ],
      "text/markdown": [
       "0.65"
      ],
      "text/plain": [
       "[1] 0.65"
      ]
     },
     "metadata": {},
     "output_type": "display_data"
    }
   ],
   "source": [
    "prima_media(1300, 1423500, 1423500)"
   ]
  },
  {
   "cell_type": "code",
   "execution_count": 11,
   "id": "i742ebdczf",
   "metadata": {
    "vscode": {
     "languageId": "r"
    }
   },
   "outputs": [
    {
     "name": "stdout",
     "output_type": "stream",
     "text": [
      "=== TABLA PRIMA MEDIA: 1300 SEMANAS (25 AÑOS) ===\n",
      "\n",
      "\n",
      " S/SM   Tasa de Reemplazo\n",
      "-----  ------------------\n",
      "    1               0.650\n",
      "    2               0.645\n",
      "    3               0.640\n",
      "    4               0.635\n",
      "    5               0.630\n",
      "    6               0.625\n",
      "    7               0.620\n",
      "    8               0.615\n",
      "    9               0.610\n",
      "   10               0.605\n",
      "   11               0.600\n",
      "   12               0.595\n",
      "   13               0.590\n",
      "   14               0.585\n",
      "   15               0.580\n",
      "   16               0.575\n",
      "   17               0.570\n",
      "   18               0.565\n",
      "   19               0.560\n",
      "   20               0.555\n",
      "   21               0.550\n",
      "   22               0.545\n",
      "   23               0.540\n",
      "   24               0.535\n",
      "   25               0.530\n",
      "\n",
      "\n",
      "=== TABLA PRIMA MEDIA: 1800 SEMANAS (35 AÑOS) ===\n",
      "\n",
      "\n",
      " S/SM   Tasa de Reemplazo\n",
      "-----  ------------------\n",
      "    1               0.800\n",
      "    2               0.795\n",
      "    3               0.790\n",
      "    4               0.785\n",
      "    5               0.780\n",
      "    6               0.775\n",
      "    7               0.770\n",
      "    8               0.765\n",
      "    9               0.760\n",
      "   10               0.755\n",
      "   11               0.750\n",
      "   12               0.745\n",
      "   13               0.740\n",
      "   14               0.735\n",
      "   15               0.730\n",
      "   16               0.725\n",
      "   17               0.720\n",
      "   18               0.715\n",
      "   19               0.710\n",
      "   20               0.705\n",
      "   21               0.700\n",
      "   22               0.695\n",
      "   23               0.690\n",
      "   24               0.685\n",
      "   25               0.680\n",
      "\n",
      "\n",
      "=== TABLA COMPARATIVA: 1300 vs 1800 SEMANAS ===\n",
      "\n",
      "\n",
      " S/SM   TR (1300 sem)   TR (1800 sem)   Diferencia\n",
      "-----  --------------  --------------  -----------\n",
      "    1           0.650           0.800         0.15\n",
      "    2           0.645           0.795         0.15\n",
      "    3           0.640           0.790         0.15\n",
      "    4           0.635           0.785         0.15\n",
      "    5           0.630           0.780         0.15\n",
      "    6           0.625           0.775         0.15\n",
      "    7           0.620           0.770         0.15\n",
      "    8           0.615           0.765         0.15\n",
      "    9           0.610           0.760         0.15\n",
      "   10           0.605           0.755         0.15\n",
      "   11           0.600           0.750         0.15\n",
      "   12           0.595           0.745         0.15\n",
      "   13           0.590           0.740         0.15\n",
      "   14           0.585           0.735         0.15\n",
      "   15           0.580           0.730         0.15\n",
      "   16           0.575           0.725         0.15\n",
      "   17           0.570           0.720         0.15\n",
      "   18           0.565           0.715         0.15\n",
      "   19           0.560           0.710         0.15\n",
      "   20           0.555           0.705         0.15\n",
      "   21           0.550           0.700         0.15\n",
      "   22           0.545           0.695         0.15\n",
      "   23           0.540           0.690         0.15\n",
      "   24           0.535           0.685         0.15\n",
      "   25           0.530           0.680         0.15\n"
     ]
    }
   ],
   "source": [
    "# Parámetros para las tablas\n",
    "Sm <- 1423500  # Salario mínimo\n",
    "valores_S_SM <- 1:25  # Múltiplos del salario mínimo de 1 a 25\n",
    "\n",
    "# Cargar librerías\n",
    "library(knitr)\n",
    "\n",
    "# TABLA 1: 1300 semanas (25 años)\n",
    "cat(\"=== TABLA PRIMA MEDIA: 1300 SEMANAS (25 AÑOS) ===\\n\")\n",
    "\n",
    "tabla_1300 <- data.frame(\n",
    "    S_SM = valores_S_SM,\n",
    "    tr = numeric(25)\n",
    ")\n",
    "\n",
    "for(i in 1:25) {\n",
    "    S <- valores_S_SM[i] * Sm\n",
    "    tabla_1300$tr[i] <- prima_media(1300, S, Sm)\n",
    "}\n",
    "\n",
    "print(kable(tabla_1300, digits = 4, format = \"simple\",\n",
    "            col.names = c(\"S/SM\", \"Tasa de Reemplazo\")))\n",
    "\n",
    "cat(\"\\n\\n\")\n",
    "\n",
    "# TABLA 2: 1800 semanas (35 años aprox)\n",
    "cat(\"=== TABLA PRIMA MEDIA: 1800 SEMANAS (35 AÑOS) ===\\n\")\n",
    "\n",
    "tabla_1800 <- data.frame(\n",
    "    S_SM = valores_S_SM,\n",
    "    tr = numeric(25)\n",
    ")\n",
    "\n",
    "for(i in 1:25) {\n",
    "    S <- valores_S_SM[i] * Sm\n",
    "    tabla_1800$tr[i] <- prima_media(1800, S, Sm)\n",
    "}\n",
    "\n",
    "print(kable(tabla_1800, digits = 4, format = \"simple\",\n",
    "            col.names = c(\"S/SM\", \"Tasa de Reemplazo\")))\n",
    "\n",
    "cat(\"\\n\\n\")\n",
    "\n",
    "# TABLA COMPARATIVA\n",
    "cat(\"=== TABLA COMPARATIVA: 1300 vs 1800 SEMANAS ===\\n\")\n",
    "\n",
    "tabla_comparativa <- data.frame(\n",
    "    S_SM = valores_S_SM,\n",
    "    tr_1300 = tabla_1300$tr,\n",
    "    tr_1800 = tabla_1800$tr,\n",
    "    diferencia = tabla_1800$tr - tabla_1300$tr\n",
    ")\n",
    "\n",
    "print(kable(tabla_comparativa, digits = 4, format = \"simple\",\n",
    "            col.names = c(\"S/SM\", \"TR (1300 sem)\", \"TR (1800 sem)\", \"Diferencia\")))"
   ]
  }
 ],
 "metadata": {
  "kernelspec": {
   "display_name": "R",
   "language": "R",
   "name": "ir"
  },
  "language_info": {
   "codemirror_mode": "r",
   "file_extension": ".r",
   "mimetype": "text/x-r-source",
   "name": "R",
   "pygments_lexer": "r",
   "version": "4.2.3"
  }
 },
 "nbformat": 4,
 "nbformat_minor": 5
}
