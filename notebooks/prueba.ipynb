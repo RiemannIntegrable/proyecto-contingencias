{
 "cells": [
  {
   "cell_type": "code",
   "execution_count": 1,
   "id": "e3e5f2e3",
   "metadata": {
    "vscode": {
     "languageId": "r"
    }
   },
   "outputs": [],
   "source": [
    "ahorro_individual <- function(tabla_mortalidad, x, r, e, tc, Sm, Sf, n){\n",
    "\n",
    "    # Validacion de datos\n",
    "    if(!is.numeric(x) || x %% 1 != 0 || x < 0){\n",
    "        stop(\"x debe ser un entero no negativo\")\n",
    "    }\n",
    "    if(!is.data.frame(tabla_mortalidad) || !all(c(\"x\", \"qx\") %in% names(tabla_mortalidad))){\n",
    "        stop(\"tabla_mortalidad debe ser un data frame con columnas 'x' y 'qx'\")\n",
    "    }\n",
    "    if(!is.numeric(r) || r < 0){\n",
    "        stop(\"r debe ser un numero no negativo\")\n",
    "    }\n",
    "    if(!is.numeric(e) || e <= 0){\n",
    "        stop(\"e debe ser un numero positivo\")\n",
    "    }\n",
    "    if(!is.numeric(tc) || tc < 0){\n",
    "        stop(\"tc debe ser un numero no negativo\")\n",
    "    }\n",
    "    if(tc > 1) {\n",
    "        stop(\"La tasa de cotizacion debe ser menor a 1\")\n",
    "    }\n",
    "    \n",
    "    x_min <- min(tabla_mortalidad$x)\n",
    "    omega <- max(tabla_mortalidad$x)\n",
    "    \n",
    "    if(x < x_min || x > omega){\n",
    "        stop(paste(\"Edad\", x, \"esta fuera del rango de la tabla\"))\n",
    "    }\n",
    "\n",
    "    # Constantes requeridas\n",
    "    i <- (1+e) * (1+r) - 1\n",
    "    i12 <- 12*((1+i)^(1/12) - 1)\n",
    "    ve <- 1/(1+e)\n",
    "    v <- 1/(1+i)\n",
    "\n",
    "    # Acumulado del salario de 1\n",
    "    VP12 <- (i/i12) * (1 - ve^n)/(e * (1+r))\n",
    "    VP <- (1 - ve^n)/(e * (1+r))\n",
    "    VF <- ((12 * VP12) + VP) * (1+i)^n\n",
    "\n",
    "    # Formulita de acumulación\n",
    "    acum <- Sf * tc * ((12 * VP12) + VP) * (1+e)^n\n",
    "    \n",
    "    # Vectorizacion de probabilidades de mortalidad\n",
    "    inicio <- which(tabla_mortalidad$x == x)\n",
    "    fin <- nrow(tabla_mortalidad)\n",
    "    \n",
    "    qx_vec <- tabla_mortalidad$qx[inicio:fin]\n",
    "    px_vec <- 1 - qx_vec\n",
    "    \n",
    "    # Probabilidades de supervivencia acumuladas\n",
    "    rango_años <- length(qx_vec)\n",
    "    tpx <- numeric(rango_años)\n",
    "    tpx[1] <- 1\n",
    "    \n",
    "    # Calcular todas las probabilidades de supervivencia primero\n",
    "    if(x < omega){\n",
    "        for(k in 2:rango_años){\n",
    "            tpx[k] <- tpx[k-1] * px_vec[k-1]\n",
    "        }\n",
    "    }\n",
    "\n",
    "    # Seguro de vida entero: Ax\n",
    "    Ax <- sum(sapply(0:(omega-x), function(k) {\n",
    "        if(k+1 <= length(tpx) && k+1 <= length(qx_vec)){\n",
    "            v^(k+1) * tpx[k+1] * qx_vec[k+1]\n",
    "        } else {\n",
    "            0\n",
    "        }\n",
    "    }))\n",
    "\n",
    "    # Calculo de ax_e (anualidad contingente)\n",
    "    if(x == omega){\n",
    "        ax_e <- 0\n",
    "    } else {\n",
    "        ax_e <- sum(sapply(1:(omega-x), function(k) {\n",
    "            if(k+1 <= length(tpx)){\n",
    "                ve^k * tpx[k+1]\n",
    "            } else {\n",
    "                0\n",
    "            }\n",
    "        }))\n",
    "    }\n",
    "    \n",
    "    # Calculo VPx12 (valor presente renta contingente mensual)\n",
    "    VPx12 <- 12*(ax_e/24 * ((24+11*r)/(1+r)) + 11/24)\n",
    "    \n",
    "    # Calculo VPx1 (valor presente renta contingente anual)\n",
    "    VPx1 <- ax_e / (1 + r) \n",
    "    VPx <- VPx12 + VPx1\n",
    "\n",
    "    # Calcular auxilio funerario\n",
    "    AF <- pmin(pmax(Sf, 5 * Sm), 10 * Sm)\n",
    "    A12 <- (i/i12) * Ax\n",
    "\n",
    "    # Tasa de remplazo\n",
    "    tr <- (acum)/ (Sf*VPx)\n",
    "\n",
    "    m <- Sf * tr\n",
    "\n",
    "    return(c(tr, m))\n",
    "}"
   ]
  },
  {
   "cell_type": "code",
   "execution_count": 2,
   "id": "fb4582dc",
   "metadata": {
    "vscode": {
     "languageId": "r"
    }
   },
   "outputs": [],
   "source": [
    "mujeres <- read.csv(\"../data/input/mujeres.csv\")"
   ]
  },
  {
   "cell_type": "code",
   "execution_count": 4,
   "id": "d10c3604",
   "metadata": {
    "vscode": {
     "languageId": "r"
    }
   },
   "outputs": [
    {
     "data": {
      "text/html": [
       "<style>\n",
       ".list-inline {list-style: none; margin:0; padding: 0}\n",
       ".list-inline>li {display: inline-block}\n",
       ".list-inline>li:not(:last-child)::after {content: \"\\00b7\"; padding: 0 .5ex}\n",
       "</style>\n",
       "<ol class=list-inline><li>0.733101264187728</li><li>26089241.2392808</li></ol>\n"
      ],
      "text/latex": [
       "\\begin{enumerate*}\n",
       "\\item 0.733101264187728\n",
       "\\item 26089241.2392808\n",
       "\\end{enumerate*}\n"
      ],
      "text/markdown": [
       "1. 0.733101264187728\n",
       "2. 26089241.2392808\n",
       "\n",
       "\n"
      ],
      "text/plain": [
       "[1] 7.331013e-01 2.608924e+07"
      ]
     },
     "metadata": {},
     "output_type": "display_data"
    }
   ],
   "source": [
    "ahorro_individual(mujeres, 67, 0.0788, 0.03, 0.132, 1423500, 25*1423500, 42)"
   ]
  }
 ],
 "metadata": {
  "kernelspec": {
   "display_name": "R",
   "language": "R",
   "name": "ir"
  },
  "language_info": {
   "codemirror_mode": "r",
   "file_extension": ".r",
   "mimetype": "text/x-r-source",
   "name": "R",
   "pygments_lexer": "r",
   "version": "4.2.3"
  }
 },
 "nbformat": 4,
 "nbformat_minor": 5
}
