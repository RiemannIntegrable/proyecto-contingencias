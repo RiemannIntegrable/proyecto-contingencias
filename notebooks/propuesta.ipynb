{
 "cells": [
  {
   "cell_type": "markdown",
   "id": "2b3335b3",
   "metadata": {},
   "source": [
    "<div align = \"center\">\n",
    "\n",
    "# **Sistema propuesto**\n",
    "\n",
    "</div>"
   ]
  },
  {
   "cell_type": "code",
   "execution_count": 1,
   "id": "e3b20e69",
   "metadata": {
    "vscode": {
     "languageId": "r"
    }
   },
   "outputs": [],
   "source": [
    "source(\"../src/utils/propuesta.R\")"
   ]
  },
  {
   "cell_type": "code",
   "execution_count": 2,
   "id": "38864d46",
   "metadata": {
    "vscode": {
     "languageId": "r"
    }
   },
   "outputs": [],
   "source": [
    "mujeres <- read.csv(\"../data/input/mujeres.csv\")"
   ]
  },
  {
   "cell_type": "code",
   "execution_count": 3,
   "id": "84c29381",
   "metadata": {
    "vscode": {
     "languageId": "r"
    }
   },
   "outputs": [
    {
     "name": "stdout",
     "output_type": "stream",
     "text": [
      "Mesada total: 956307.3 \n",
      "Tasa de reemplazo efectiva: 0.6718 \n",
      "Tasa de remplazo en el sistema publico 0.6718 \n",
      "Tasa de reemplazo en el sistema privado 0"
     ]
    },
    {
     "data": {
      "text/html": [
       "<style>\n",
       ".list-inline {list-style: none; margin:0; padding: 0}\n",
       ".list-inline>li {display: inline-block}\n",
       ".list-inline>li:not(:last-child)::after {content: \"\\00b7\"; padding: 0 .5ex}\n",
       "</style>\n",
       "<ol class=list-inline><li>956307.3</li><li>0.6718</li></ol>\n"
      ],
      "text/latex": [
       "\\begin{enumerate*}\n",
       "\\item 956307.3\n",
       "\\item 0.6718\n",
       "\\end{enumerate*}\n"
      ],
      "text/markdown": [
       "1. 956307.3\n",
       "2. 0.6718\n",
       "\n",
       "\n"
      ],
      "text/plain": [
       "[1] 956307.3000      0.6718"
      ]
     },
     "metadata": {},
     "output_type": "display_data"
    }
   ],
   "source": [
    "S <- 1\n",
    "n <- 42\n",
    "\n",
    "propuesta(\n",
    "      tabla_mortalidad = mujeres,\n",
    "      x = 66,\n",
    "      r = 0.0788,\n",
    "      e = 0.03,\n",
    "      tc = 0.15,\n",
    "      Sm = 1423500,\n",
    "      S = S*1423500,\n",
    "      n = n,\n",
    "      h = 1.7\n",
    "  )"
   ]
  },
  {
   "cell_type": "markdown",
   "id": "ex63o376cbu",
   "metadata": {},
   "source": [
    "## Cálculo de tablas para el documento\n",
    "\n",
    "### Parámetros para las tablas"
   ]
  },
  {
   "cell_type": "code",
   "execution_count": 4,
   "id": "fcyz5ycjzjg",
   "metadata": {
    "vscode": {
     "languageId": "r"
    }
   },
   "outputs": [
    {
     "name": "stdout",
     "output_type": "stream",
     "text": [
      "[1] \"Parámetros definidos:\"\n",
      "[1] \"S (múltiplos del SMLV): 1, 2, 3, 4, 5, 6, 7, 8, 9, 10, 11, 12, 13, 14, 15, 16, 17, 18, 19, 20, 21, 22, 23, 24, 25\"\n",
      "[1] \"Factores para primera tabla: 1.1, 1.2, 1.3, 1.4, 1.5, 1.6, 1.7, 1.8, 1.9\"\n",
      "[1] \"Años de cotización: 35, 42\"\n"
     ]
    }
   ],
   "source": [
    "S <- 1:25\n",
    "factores_s <- c(1.1, 1.2, 1.3, 1.4, 1.5, 1.6, 1.7, 1.8, 1.9)\n",
    "n <- c(35, 42)\n",
    "\n",
    "print(\"Parámetros definidos:\")\n",
    "print(paste(\"S (múltiplos del SMLV):\", paste(S, collapse=\", \")))\n",
    "print(paste(\"Factores para primera tabla:\", paste(factores_s, collapse=\", \")))\n",
    "print(paste(\"Años de cotización:\", paste(n, collapse=\", \")))"
   ]
  },
  {
   "cell_type": "markdown",
   "id": "lmqstw3ll8l",
   "metadata": {},
   "source": [
    "### Primera tabla: Salarios entre 1.1 y 1.9 SMMLV"
   ]
  },
  {
   "cell_type": "code",
   "execution_count": 5,
   "id": "bwgo6hf94wd",
   "metadata": {
    "vscode": {
     "languageId": "r"
    }
   },
   "outputs": [
    {
     "name": "stdout",
     "output_type": "stream",
     "text": [
      "Mesada total: 937161.2 \n",
      "Tasa de reemplazo efectiva: 0.5985 \n",
      "Tasa de remplazo en el sistema publico 0.5985 \n",
      "Tasa de reemplazo en el sistema privado 0Mesada total: 1051155 \n",
      "Tasa de reemplazo efectiva: 0.6713 \n",
      "Tasa de remplazo en el sistema publico 0.6713 \n",
      "Tasa de reemplazo en el sistema privado 0Mesada total: 1021504 \n",
      "Tasa de reemplazo efectiva: 0.598 \n",
      "Tasa de remplazo en el sistema publico 0.598 \n",
      "Tasa de reemplazo en el sistema privado 0Mesada total: 1145861 \n",
      "Tasa de reemplazo efectiva: 0.6708 \n",
      "Tasa de remplazo en el sistema publico 0.6708 \n",
      "Tasa de reemplazo en el sistema privado 0Mesada total: 1105704 \n",
      "Tasa de reemplazo efectiva: 0.5975 \n",
      "Tasa de remplazo en el sistema publico 0.5975 \n",
      "Tasa de reemplazo en el sistema privado 0Mesada total: 1240424 \n",
      "Tasa de reemplazo efectiva: 0.6703 \n",
      "Tasa de remplazo en el sistema publico 0.6703 \n",
      "Tasa de reemplazo en el sistema privado 0Mesada total: 1189761 \n",
      "Tasa de reemplazo efectiva: 0.597 \n",
      "Tasa de remplazo en el sistema publico 0.597 \n",
      "Tasa de reemplazo en el sistema privado 0Mesada total: 1334844 \n",
      "Tasa de reemplazo efectiva: 0.6698 \n",
      "Tasa de remplazo en el sistema publico 0.6698 \n",
      "Tasa de reemplazo en el sistema privado 0Mesada total: 1273677 \n",
      "Tasa de reemplazo efectiva: 0.5965 \n",
      "Tasa de remplazo en el sistema publico 0.5965 \n",
      "Tasa de reemplazo en el sistema privado 0Mesada total: 1429123 \n",
      "Tasa de reemplazo efectiva: 0.6693 \n",
      "Tasa de remplazo en el sistema publico 0.6693 \n",
      "Tasa de reemplazo en el sistema privado 0Mesada total: 1357450 \n",
      "Tasa de reemplazo efectiva: 0.596 \n",
      "Tasa de remplazo en el sistema publico 0.596 \n",
      "Tasa de reemplazo en el sistema privado 0Mesada total: 1523259 \n",
      "Tasa de reemplazo efectiva: 0.6688 \n",
      "Tasa de remplazo en el sistema publico 0.6688 \n",
      "Tasa de reemplazo en el sistema privado 0Mesada total: 1441080 \n",
      "Tasa de reemplazo efectiva: 0.5955 \n",
      "Tasa de remplazo en el sistema publico 0.5955 \n",
      "Tasa de reemplazo en el sistema privado 0Mesada total: 1617253 \n",
      "Tasa de reemplazo efectiva: 0.6683 \n",
      "Tasa de remplazo en el sistema publico 0.6683 \n",
      "Tasa de reemplazo en el sistema privado 0Mesada total: 1526030 \n",
      "Tasa de reemplazo efectiva: 0.5955705 \n",
      "Tasa de remplazo en el sistema publico 0.5955 \n",
      "Tasa de reemplazo en el sistema privado 0.5967693Mesada total: 1732496 \n",
      "Tasa de reemplazo efectiva: 0.6761489 \n",
      "Tasa de remplazo en el sistema publico 0.6683 \n",
      "Tasa de reemplazo en el sistema privado 0.8095806Mesada total: 1610980 \n",
      "Tasa de reemplazo efectiva: 0.5956336 \n",
      "Tasa de remplazo en el sistema publico 0.5955 \n",
      "Tasa de reemplazo en el sistema privado 0.5967693Mesada total: 1847740 \n",
      "Tasa de reemplazo efectiva: 0.6831716 \n",
      "Tasa de remplazo en el sistema publico 0.6683 \n",
      "Tasa de reemplazo en el sistema privado 0.8095806[1] \"Primera tabla (1.1 a 1.9 SMMLV):\"\n",
      "       Sf_SM    TR_35a Pension_35a    TR_42a Pension_42a\n",
      "1        1.1 0.5985000      937161 0.6713000     1051155\n",
      "2        1.2 0.5980000     1021504 0.6708000     1145861\n",
      "3        1.3 0.5975000     1105704 0.6703000     1240424\n",
      "4        1.4 0.5970000     1189761 0.6698000     1334844\n",
      "5        1.5 0.5965000     1273677 0.6693000     1429123\n",
      "6        1.6 0.5960000     1357450 0.6688000     1523259\n",
      "7        1.7 0.5955000     1441080 0.6683000     1617253\n",
      "monto    1.8 0.5955705     1526030 0.6761489     1732496\n",
      "monto1   1.9 0.5956336     1610980 0.6831716     1847740\n"
     ]
    }
   ],
   "source": [
    "tabla1_resultados <- data.frame(\n",
    "  Sf_SM = numeric(0),\n",
    "  TR_35a = numeric(0),\n",
    "  Pension_35a = numeric(0),\n",
    "  TR_42a = numeric(0),\n",
    "  Pension_42a = numeric(0)\n",
    ")\n",
    "\n",
    "for(factor_s in factores_s) {\n",
    "  resultado_35 <- propuesta(\n",
    "    tabla_mortalidad = mujeres,\n",
    "    x = 66,\n",
    "    r = 0.0788,\n",
    "    e = 0.03,\n",
    "    tc = 0.15,\n",
    "    Sm = 1423500,\n",
    "    S = factor_s * 1423500,\n",
    "    n = 35,\n",
    "    h = 1.7\n",
    "  )\n",
    "  \n",
    "  resultado_42 <- propuesta(\n",
    "    tabla_mortalidad = mujeres,\n",
    "    x = 66,\n",
    "    r = 0.0788,\n",
    "    e = 0.03,\n",
    "    tc = 0.15,\n",
    "    Sm = 1423500,\n",
    "    S = factor_s * 1423500,\n",
    "    n = 42,\n",
    "    h = 1.7\n",
    "  )\n",
    "  \n",
    "  tabla1_resultados <- rbind(tabla1_resultados, data.frame(\n",
    "    Sf_SM = factor_s,\n",
    "    TR_35a = resultado_35[2],\n",
    "    Pension_35a = round(resultado_35[1]),\n",
    "    TR_42a = resultado_42[2],\n",
    "    Pension_42a = round(resultado_42[1])\n",
    "  ))\n",
    "}\n",
    "\n",
    "print(\"Primera tabla (1.1 a 1.9 SMMLV):\")\n",
    "print(tabla1_resultados)"
   ]
  },
  {
   "cell_type": "markdown",
   "id": "xoo6ds0c1",
   "metadata": {},
   "source": [
    "### Segunda tabla: Salarios de 1 a 25 SMMLV"
   ]
  },
  {
   "cell_type": "code",
   "execution_count": null,
   "id": "1fp0e6jrb64",
   "metadata": {
    "vscode": {
     "languageId": "r"
    }
   },
   "outputs": [
    {
     "name": "stdout",
     "output_type": "stream",
     "text": [
      "Mesada total: 852676.5 \n",
      "Tasa de reemplazo efectiva: 0.599 \n",
      "Tasa de remplazo en el sistema publico 0.599 \n",
      "Tasa de reemplazo en el sistema privado 0guillerlerlelrlelrlerllerlerMesada total: 956307.3 \n",
      "Tasa de reemplazo efectiva: 0.6718 \n",
      "Tasa de remplazo en el sistema publico 0.6718 \n",
      "Tasa de reemplazo en el sistema privado 0Mesada total: 1695931 \n",
      "Tasa de reemplazo efectiva: 0.5956904 \n",
      "Tasa de remplazo en el sistema publico 0.5955 \n",
      "Tasa de reemplazo en el sistema privado 0.5967693guillerlerlelrlelrlerllerlerMesada total: 1962984 \n",
      "Tasa de reemplazo efectiva: 0.6894921 \n",
      "Tasa de remplazo en el sistema publico 0.6683 \n",
      "Tasa de reemplazo en el sistema privado 0.8095806Mesada total: 2545432 \n",
      "Tasa de reemplazo efectiva: 0.59605 \n",
      "Tasa de remplazo en el sistema publico 0.5955 \n",
      "Tasa de reemplazo en el sistema privado 0.5967693guillerlerlelrlelrlerllerlerMesada total: 3115422 \n",
      "Tasa de reemplazo efectiva: 0.7295216 \n",
      "Tasa de remplazo en el sistema publico 0.6683 \n",
      "Tasa de reemplazo en el sistema privado 0.8095806Mesada total: 3394933 \n",
      "Tasa de reemplazo efectiva: 0.5962299 \n",
      "Tasa de remplazo en el sistema publico 0.5955 \n",
      "Tasa de reemplazo en el sistema privado 0.5967693guillerlerlelrlelrlerllerlerMesada total: 4267860 \n",
      "Tasa de reemplazo efectiva: 0.7495363 \n",
      "Tasa de remplazo en el sistema publico 0.6683 \n",
      "Tasa de reemplazo en el sistema privado 0.8095806Mesada total: 4244434 \n",
      "Tasa de reemplazo efectiva: 0.5963378 \n",
      "Tasa de remplazo en el sistema publico 0.5955 \n",
      "Tasa de reemplazo en el sistema privado 0.5967693guillerlerlelrlelrlerllerlerMesada total: 5420298 \n",
      "Tasa de reemplazo efectiva: 0.7615452 \n",
      "Tasa de remplazo en el sistema publico 0.6683 \n",
      "Tasa de reemplazo en el sistema privado 0.8095806Mesada total: 5093935 \n",
      "Tasa de reemplazo efectiva: 0.5964097 \n",
      "Tasa de remplazo en el sistema publico 0.5955 \n",
      "Tasa de reemplazo en el sistema privado 0.5967693guillerlerlelrlelrlerllerlerMesada total: 6572736 \n",
      "Tasa de reemplazo efectiva: 0.7695511 \n",
      "Tasa de remplazo en el sistema publico 0.6683 \n",
      "Tasa de reemplazo en el sistema privado 0.8095806Mesada total: 5943436 \n",
      "Tasa de reemplazo efectiva: 0.5964611 \n",
      "Tasa de remplazo en el sistema publico 0.5955 \n",
      "Tasa de reemplazo en el sistema privado 0.5967693guillerlerlelrlelrlerllerlerMesada total: 7725174 \n",
      "Tasa de reemplazo efectiva: 0.7752696 \n",
      "Tasa de remplazo en el sistema publico 0.6683 \n",
      "Tasa de reemplazo en el sistema privado 0.8095806Mesada total: 6792938 \n",
      "Tasa de reemplazo efectiva: 0.5964996 \n",
      "Tasa de remplazo en el sistema publico 0.5955 \n",
      "Tasa de reemplazo en el sistema privado 0.5967693guillerlerlelrlelrlerllerlerMesada total: 8877612 \n",
      "Tasa de reemplazo efectiva: 0.7795585 \n",
      "Tasa de remplazo en el sistema publico 0.6683 \n",
      "Tasa de reemplazo en el sistema privado 0.8095806Mesada total: 7642439 \n",
      "Tasa de reemplazo efectiva: 0.5965296 \n",
      "Tasa de remplazo en el sistema publico 0.5955 \n",
      "Tasa de reemplazo en el sistema privado 0.5967693guillerlerlelrlelrlerllerlerMesada total: 10030050 \n",
      "Tasa de reemplazo efectiva: 0.7828943 \n",
      "Tasa de remplazo en el sistema publico 0.6683 \n",
      "Tasa de reemplazo en el sistema privado 0.8095806Mesada total: 8491940 \n",
      "Tasa de reemplazo efectiva: 0.5965536 \n",
      "Tasa de remplazo en el sistema publico 0.5955 \n",
      "Tasa de reemplazo en el sistema privado 0.5967693guillerlerlelrlelrlerllerlerMesada total: 11182488 \n",
      "Tasa de reemplazo efectiva: 0.7855629 \n",
      "Tasa de remplazo en el sistema publico 0.6683 \n",
      "Tasa de reemplazo en el sistema privado 0.8095806Mesada total: 9341441 \n",
      "Tasa de reemplazo efectiva: 0.5965732 \n",
      "Tasa de remplazo en el sistema publico 0.5955 \n",
      "Tasa de reemplazo en el sistema privado 0.5967693guillerlerlelrlelrlerllerlerMesada total: 12334926 \n",
      "Tasa de reemplazo efectiva: 0.7877463 \n",
      "Tasa de remplazo en el sistema publico 0.6683 \n",
      "Tasa de reemplazo en el sistema privado 0.8095806Mesada total: 10190942 \n",
      "Tasa de reemplazo efectiva: 0.5965895 \n",
      "Tasa de remplazo en el sistema publico 0.5955 \n",
      "Tasa de reemplazo en el sistema privado 0.5967693guillerlerlelrlelrlerllerlerMesada total: 13487364 \n",
      "Tasa de reemplazo efectiva: 0.7895659 \n",
      "Tasa de remplazo en el sistema publico 0.6683 \n",
      "Tasa de reemplazo en el sistema privado 0.8095806Mesada total: 11040443 \n",
      "Tasa de reemplazo efectiva: 0.5966033 \n",
      "Tasa de remplazo en el sistema publico 0.5955 \n",
      "Tasa de reemplazo en el sistema privado 0.5967693guillerlerlelrlelrlerllerlerMesada total: 14639802 \n",
      "Tasa de reemplazo efectiva: 0.7911055 \n",
      "Tasa de remplazo en el sistema publico 0.6683 \n",
      "Tasa de reemplazo en el sistema privado 0.8095806Mesada total: 11889944 \n",
      "Tasa de reemplazo efectiva: 0.5966152 \n",
      "Tasa de remplazo en el sistema publico 0.5955 \n",
      "Tasa de reemplazo en el sistema privado 0.5967693guillerlerlelrlelrlerllerlerMesada total: 15792240 \n",
      "Tasa de reemplazo efectiva: 0.7924251 \n",
      "Tasa de remplazo en el sistema publico 0.6683 \n",
      "Tasa de reemplazo en el sistema privado 0.8095806Mesada total: 12739446 \n",
      "Tasa de reemplazo efectiva: 0.5966255 \n",
      "Tasa de remplazo en el sistema publico 0.5955 \n",
      "Tasa de reemplazo en el sistema privado 0.5967693guillerlerlelrlelrlerllerlerMesada total: 16944678 \n",
      "Tasa de reemplazo efectiva: 0.7935688 \n",
      "Tasa de remplazo en el sistema publico 0.6683 \n",
      "Tasa de reemplazo en el sistema privado 0.8095806Mesada total: 13588947 \n",
      "Tasa de reemplazo efectiva: 0.5966345 \n",
      "Tasa de remplazo en el sistema publico 0.5955 \n",
      "Tasa de reemplazo en el sistema privado 0.5967693guillerlerlelrlelrlerllerlerMesada total: 18097116 \n",
      "Tasa de reemplazo efectiva: 0.7945695 \n",
      "Tasa de remplazo en el sistema publico 0.6683 \n",
      "Tasa de reemplazo en el sistema privado 0.8095806Mesada total: 14438448 \n",
      "Tasa de reemplazo efectiva: 0.5966424 \n",
      "Tasa de remplazo en el sistema publico 0.5955 \n",
      "Tasa de reemplazo en el sistema privado 0.5967693guillerlerlelrlelrlerllerlerMesada total: 19249554 \n",
      "Tasa de reemplazo efectiva: 0.7954525 \n",
      "Tasa de remplazo en el sistema publico 0.6683 \n",
      "Tasa de reemplazo en el sistema privado 0.8095806Mesada total: 15287949 \n",
      "Tasa de reemplazo efectiva: 0.5966495 \n",
      "Tasa de remplazo en el sistema publico 0.5955 \n",
      "Tasa de reemplazo en el sistema privado 0.5967693guillerlerlelrlelrlerllerlerMesada total: 20401992 \n",
      "Tasa de reemplazo efectiva: 0.7962374 \n",
      "Tasa de remplazo en el sistema publico 0.6683 \n",
      "Tasa de reemplazo en el sistema privado 0.8095806Mesada total: 16137450 \n",
      "Tasa de reemplazo efectiva: 0.5966558 \n",
      "Tasa de remplazo en el sistema publico 0.5955 \n",
      "Tasa de reemplazo en el sistema privado 0.5967693guillerlerlelrlelrlerllerlerMesada total: 21554430 \n",
      "Tasa de reemplazo efectiva: 0.7969397 \n",
      "Tasa de remplazo en el sistema publico 0.6683 \n",
      "Tasa de reemplazo en el sistema privado 0.8095806Mesada total: 16986951 \n",
      "Tasa de reemplazo efectiva: 0.5966614 \n",
      "Tasa de remplazo en el sistema publico 0.5955 \n",
      "Tasa de reemplazo en el sistema privado 0.5967693guillerlerlelrlelrlerllerlerMesada total: 22706868 \n",
      "Tasa de reemplazo efectiva: 0.7975718 \n",
      "Tasa de remplazo en el sistema publico 0.6683 \n",
      "Tasa de reemplazo en el sistema privado 0.8095806Mesada total: 17836453 \n",
      "Tasa de reemplazo efectiva: 0.5966666 \n",
      "Tasa de remplazo en el sistema publico 0.5955 \n",
      "Tasa de reemplazo en el sistema privado 0.5967693guillerlerlelrlelrlerllerlerMesada total: 23859306 \n",
      "Tasa de reemplazo efectiva: 0.7981436 \n",
      "Tasa de remplazo en el sistema publico 0.6683 \n",
      "Tasa de reemplazo en el sistema privado 0.8095806Mesada total: 18685954 \n",
      "Tasa de reemplazo efectiva: 0.5966713 \n",
      "Tasa de remplazo en el sistema publico 0.5955 \n",
      "Tasa de reemplazo en el sistema privado 0.5967693guillerlerlelrlelrlerllerlerMesada total: 25011744 \n",
      "Tasa de reemplazo efectiva: 0.7986635 \n",
      "Tasa de remplazo en el sistema publico 0.6683 \n",
      "Tasa de reemplazo en el sistema privado 0.8095806Mesada total: 19535455 \n",
      "Tasa de reemplazo efectiva: 0.5966755 \n",
      "Tasa de remplazo en el sistema publico 0.5955 \n",
      "Tasa de reemplazo en el sistema privado 0.5967693guillerlerlelrlelrlerllerlerMesada total: 26164182 \n",
      "Tasa de reemplazo efectiva: 0.7991381 \n",
      "Tasa de remplazo en el sistema publico 0.6683 \n",
      "Tasa de reemplazo en el sistema privado 0.8095806Mesada total: 20384956 \n",
      "Tasa de reemplazo efectiva: 0.5966794 \n",
      "Tasa de remplazo en el sistema publico 0.5955 \n",
      "Tasa de reemplazo en el sistema privado 0.5967693guillerlerlelrlelrlerllerlerMesada total: 27316620 \n",
      "Tasa de reemplazo efectiva: 0.7995732 \n",
      "Tasa de remplazo en el sistema publico 0.6683 \n",
      "Tasa de reemplazo en el sistema privado 0.8095806Mesada total: 21234457 \n",
      "Tasa de reemplazo efectiva: 0.596683 \n",
      "Tasa de remplazo en el sistema publico 0.5955 \n",
      "Tasa de reemplazo en el sistema privado 0.5967693guillerlerlelrlelrlerllerlerMesada total: 28469058 \n",
      "Tasa de reemplazo efectiva: 0.7999735 \n",
      "Tasa de remplazo en el sistema publico 0.6683 \n",
      "Tasa de reemplazo en el sistema privado 0.8095806[1] \"Segunda tabla (1 a 25 SMMLV):\"\n",
      "        Sf_SM    TR_35a Pension_35a    TR_42a Pension_42a\n",
      "1           1 0.5990000      852676 0.6718000      956307\n",
      "monto       2 0.5956904     1695931 0.6894921     1962984\n",
      "monto1      3 0.5960500     2545432 0.7295216     3115422\n",
      "monto2      4 0.5962299     3394933 0.7495363     4267860\n",
      "monto3      5 0.5963378     4244434 0.7615452     5420298\n",
      "monto4      6 0.5964097     5093935 0.7695511     6572736\n",
      "monto5      7 0.5964611     5943436 0.7752696     7725174\n",
      "monto6      8 0.5964996     6792938 0.7795585     8877612\n",
      "monto7      9 0.5965296     7642439 0.7828943    10030050\n",
      "monto8     10 0.5965536     8491940 0.7855629    11182488\n",
      "monto9     11 0.5965732     9341441 0.7877463    12334926\n",
      "monto10    12 0.5965895    10190942 0.7895659    13487364\n",
      "monto11    13 0.5966033    11040443 0.7911055    14639802\n",
      "monto12    14 0.5966152    11889944 0.7924251    15792240\n",
      "monto13    15 0.5966255    12739446 0.7935688    16944678\n",
      "monto14    16 0.5966345    13588947 0.7945695    18097116\n",
      "monto15    17 0.5966424    14438448 0.7954525    19249554\n",
      "monto16    18 0.5966495    15287949 0.7962374    20401992\n",
      "monto17    19 0.5966558    16137450 0.7969397    21554430\n",
      "monto18    20 0.5966614    16986951 0.7975718    22706868\n",
      "monto19    21 0.5966666    17836453 0.7981436    23859306\n",
      "monto20    22 0.5966713    18685954 0.7986635    25011744\n",
      "monto21    23 0.5966755    19535455 0.7991381    26164182\n",
      "monto22    24 0.5966794    20384956 0.7995732    27316620\n",
      "monto23    25 0.5966830    21234457 0.7999735    28469058\n"
     ]
    }
   ],
   "source": [
    "tabla2_resultados <- data.frame(\n",
    "  Sf_SM = numeric(0),\n",
    "  TR_35a = numeric(0),\n",
    "  Pension_35a = numeric(0),\n",
    "  TR_42a = numeric(0),\n",
    "  Pension_42a = numeric(0)\n",
    ")\n",
    "\n",
    "for(s in S) {\n",
    "  resultado_35 <- propuesta(\n",
    "    tabla_mortalidad = mujeres,\n",
    "    x = 66,\n",
    "    r = 0.0788,\n",
    "    e = 0.03,\n",
    "    tc = 0.15,\n",
    "    Sm = 1423500,\n",
    "    S = s * 1423500,\n",
    "    n = 35,\n",
    "    h = 1.7\n",
    "  )\n",
    "\n",
    "  resultado_42 <- propuesta(\n",
    "    tabla_mortalidad = mujeres,\n",
    "    x = 66,\n",
    "    r = 0.0788,\n",
    "    e = 0.03,\n",
    "    tc = 0.15,\n",
    "    Sm = 1423500,\n",
    "    S = s * 1423500,\n",
    "    n = 42,\n",
    "    h = 1.7\n",
    "  )\n",
    "  \n",
    "  tabla2_resultados <- rbind(tabla2_resultados, data.frame(\n",
    "    Sf_SM = s,\n",
    "    TR_35a = resultado_35[2],\n",
    "    Pension_35a = round(resultado_35[1]),\n",
    "    TR_42a = resultado_42[2],\n",
    "    Pension_42a = round(resultado_42[1])\n",
    "  ))\n",
    "}\n",
    "\n",
    "print(\"Segunda tabla (1 a 25 SMMLV):\")\n",
    "print(tabla2_resultados)"
   ]
  }
 ],
 "metadata": {
  "kernelspec": {
   "display_name": "R",
   "language": "R",
   "name": "ir"
  },
  "language_info": {
   "codemirror_mode": "r",
   "file_extension": ".r",
   "mimetype": "text/x-r-source",
   "name": "R",
   "pygments_lexer": "r",
   "version": "4.2.3"
  }
 },
 "nbformat": 4,
 "nbformat_minor": 5
}
